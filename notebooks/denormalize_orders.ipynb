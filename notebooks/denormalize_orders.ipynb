{
 "cells": [
  {
   "cell_type": "code",
   "execution_count": 1,
   "metadata": {},
   "outputs": [],
   "source": [
    "import pandas as pd\n",
    "from sqlalchemy import create_engine\n",
    "from clickhouse_driver import Client"
   ]
  },
  {
   "cell_type": "code",
   "execution_count": 2,
   "metadata": {},
   "outputs": [],
   "source": [
    "# MySQL connection settings\n",
    "DB_USER = 'root'\n",
    "DB_PASS = 'root'\n",
    "DB_HOST = 'localhost'\n",
    "DB_PORT = '3306'\n",
    "DB_NAME = 'ecommerce'\n",
    "\n",
    "# Create MySQL connection string\n",
    "connection_str = f\"mysql+pymysql://{DB_USER}:{DB_PASS}@{DB_HOST}:{DB_PORT}/{DB_NAME}\"\n",
    "\n",
    "# Create SQLAlchemy engine\n",
    "engine = create_engine(connection_str)"
   ]
  },
  {
   "cell_type": "code",
   "execution_count": 3,
   "metadata": {},
   "outputs": [],
   "source": [
    "# Query orders table\n",
    "orders_query = \"SELECT * FROM orders\"\n",
    "orders_df = pd.read_sql(orders_query, engine)\n",
    "\n",
    "# Query products table\n",
    "products_query = \"SELECT * FROM products\"\n",
    "products_df = pd.read_sql(products_query, engine)\n",
    "\n",
    "# Query order_items table\n",
    "order_items_query = \"SELECT * FROM order_items\"\n",
    "order_items_df = pd.read_sql(order_items_query, engine)"
   ]
  },
  {
   "cell_type": "code",
   "execution_count": 4,
   "metadata": {},
   "outputs": [
    {
     "data": {
      "text/html": [
       "<div>\n",
       "<style scoped>\n",
       "    .dataframe tbody tr th:only-of-type {\n",
       "        vertical-align: middle;\n",
       "    }\n",
       "\n",
       "    .dataframe tbody tr th {\n",
       "        vertical-align: top;\n",
       "    }\n",
       "\n",
       "    .dataframe thead th {\n",
       "        text-align: right;\n",
       "    }\n",
       "</style>\n",
       "<table border=\"1\" class=\"dataframe\">\n",
       "  <thead>\n",
       "    <tr style=\"text-align: right;\">\n",
       "      <th></th>\n",
       "      <th>order_date</th>\n",
       "      <th>quantity</th>\n",
       "      <th>price</th>\n",
       "    </tr>\n",
       "  </thead>\n",
       "  <tbody>\n",
       "    <tr>\n",
       "      <th>0</th>\n",
       "      <td>2022-01-01</td>\n",
       "      <td>63</td>\n",
       "      <td>30</td>\n",
       "    </tr>\n",
       "    <tr>\n",
       "      <th>1</th>\n",
       "      <td>2022-01-02</td>\n",
       "      <td>66</td>\n",
       "      <td>60</td>\n",
       "    </tr>\n",
       "    <tr>\n",
       "      <th>2</th>\n",
       "      <td>2022-01-03</td>\n",
       "      <td>69</td>\n",
       "      <td>90</td>\n",
       "    </tr>\n",
       "    <tr>\n",
       "      <th>3</th>\n",
       "      <td>2022-01-04</td>\n",
       "      <td>72</td>\n",
       "      <td>120</td>\n",
       "    </tr>\n",
       "    <tr>\n",
       "      <th>4</th>\n",
       "      <td>2022-01-05</td>\n",
       "      <td>75</td>\n",
       "      <td>150</td>\n",
       "    </tr>\n",
       "  </tbody>\n",
       "</table>\n",
       "</div>"
      ],
      "text/plain": [
       "  order_date  quantity  price\n",
       "0 2022-01-01        63     30\n",
       "1 2022-01-02        66     60\n",
       "2 2022-01-03        69     90\n",
       "3 2022-01-04        72    120\n",
       "4 2022-01-05        75    150"
      ]
     },
     "execution_count": 4,
     "metadata": {},
     "output_type": "execute_result"
    }
   ],
   "source": [
    "# Merge order_items with products to get the price\n",
    "merged_df = pd.merge(order_items_df, products_df, left_on='product_id', right_on='id', how='left')\n",
    "\n",
    "# Merge with orders table\n",
    "final_merged_df = pd.merge(orders_df, merged_df, left_on='id', right_on='order_id', how='left')\n",
    "\n",
    "# Convert order_date to datetime\n",
    "final_merged_df['order_date'] = pd.to_datetime(final_merged_df['order_date'])\n",
    "\n",
    "# Aggregate data\n",
    "daily_sales_df = final_merged_df.groupby('order_date').agg({\n",
    "    'quantity': 'sum',\n",
    "    'price': 'sum'\n",
    "}).reset_index()\n",
    "\n",
    "daily_sales_df.head()"
   ]
  },
  {
   "cell_type": "code",
   "execution_count": 10,
   "metadata": {},
   "outputs": [
    {
     "data": {
      "text/plain": [
       "20"
      ]
     },
     "execution_count": 10,
     "metadata": {},
     "output_type": "execute_result"
    }
   ],
   "source": [
    "from clickhouse_driver import Client\n",
    "\n",
    "# Connect to ClickHouse\n",
    "ch_client = Client(host='localhost', port=9000, user='default', password='')\n",
    "\n",
    "# Convert DataFrame to list of tuples\n",
    "data = [tuple(row) for row in daily_sales_df.values]\n",
    "\n",
    "# Define ClickHouse query to insert data\n",
    "query = \"INSERT INTO daily_sales (order_date, quantity, total_sales) VALUES\"\n",
    "\n",
    "# Execute the query to insert data\n",
    "ch_client.execute(query, data)"
   ]
  }
 ],
 "metadata": {
  "kernelspec": {
   "display_name": "ecommerce-3.9",
   "language": "python",
   "name": "python3"
  },
  "language_info": {
   "codemirror_mode": {
    "name": "ipython",
    "version": 3
   },
   "file_extension": ".py",
   "mimetype": "text/x-python",
   "name": "python",
   "nbconvert_exporter": "python",
   "pygments_lexer": "ipython3",
   "version": "3.9.18"
  }
 },
 "nbformat": 4,
 "nbformat_minor": 2
}
